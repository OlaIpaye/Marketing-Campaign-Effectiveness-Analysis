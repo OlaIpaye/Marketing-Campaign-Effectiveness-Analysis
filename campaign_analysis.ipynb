{
 "cells": [
  {
   "cell_type": "markdown",
   "id": "277183f3-a500-47a0-afdf-baaf8a200172",
   "metadata": {},
   "source": [
    "# Marketing Campaign Effectiveness Analysis"
   ]
  },
  {
   "cell_type": "code",
   "execution_count": null,
   "id": "b39c771c-ac0c-4a5f-a4ea-d6ff29a4c7db",
   "metadata": {},
   "outputs": [],
   "source": []
  },
  {
   "cell_type": "code",
   "execution_count": 22,
   "id": "4e985edd-ce20-40bc-b578-ca7d568afb1e",
   "metadata": {},
   "outputs": [],
   "source": [
    "# import library\n",
    "from scipy.stats import ttest_ind\n",
    "import pandas as pd\n",
    "import matplotlib.pyplot as plt"
   ]
  },
  {
   "cell_type": "code",
   "execution_count": 23,
   "id": "ce8e014d-ed48-4688-95c7-4e47723613ef",
   "metadata": {},
   "outputs": [
    {
     "data": {
      "text/html": [
       "<div>\n",
       "<style scoped>\n",
       "    .dataframe tbody tr th:only-of-type {\n",
       "        vertical-align: middle;\n",
       "    }\n",
       "\n",
       "    .dataframe tbody tr th {\n",
       "        vertical-align: top;\n",
       "    }\n",
       "\n",
       "    .dataframe thead th {\n",
       "        text-align: right;\n",
       "    }\n",
       "</style>\n",
       "<table border=\"1\" class=\"dataframe\">\n",
       "  <thead>\n",
       "    <tr style=\"text-align: right;\">\n",
       "      <th></th>\n",
       "      <th>Campaign</th>\n",
       "      <th>CTR</th>\n",
       "    </tr>\n",
       "  </thead>\n",
       "  <tbody>\n",
       "    <tr>\n",
       "      <th>0</th>\n",
       "      <td>A</td>\n",
       "      <td>0.034967</td>\n",
       "    </tr>\n",
       "    <tr>\n",
       "      <th>1</th>\n",
       "      <td>A</td>\n",
       "      <td>0.028617</td>\n",
       "    </tr>\n",
       "    <tr>\n",
       "      <th>2</th>\n",
       "      <td>A</td>\n",
       "      <td>0.036477</td>\n",
       "    </tr>\n",
       "    <tr>\n",
       "      <th>3</th>\n",
       "      <td>A</td>\n",
       "      <td>0.045230</td>\n",
       "    </tr>\n",
       "    <tr>\n",
       "      <th>4</th>\n",
       "      <td>A</td>\n",
       "      <td>0.027658</td>\n",
       "    </tr>\n",
       "  </tbody>\n",
       "</table>\n",
       "</div>"
      ],
      "text/plain": [
       "  Campaign       CTR\n",
       "0        A  0.034967\n",
       "1        A  0.028617\n",
       "2        A  0.036477\n",
       "3        A  0.045230\n",
       "4        A  0.027658"
      ]
     },
     "execution_count": 23,
     "metadata": {},
     "output_type": "execute_result"
    }
   ],
   "source": [
    "# loading dataset\n",
    "df = pd.read_csv(\"..//Python coding//email_c.csv\")\n",
    "df.head()"
   ]
  },
  {
   "cell_type": "code",
   "execution_count": 24,
   "id": "a1f0f065-5d4b-48d1-8610-b3cc7d9eda59",
   "metadata": {},
   "outputs": [
    {
     "data": {
      "text/html": [
       "<div>\n",
       "<style scoped>\n",
       "    .dataframe tbody tr th:only-of-type {\n",
       "        vertical-align: middle;\n",
       "    }\n",
       "\n",
       "    .dataframe tbody tr th {\n",
       "        vertical-align: top;\n",
       "    }\n",
       "\n",
       "    .dataframe thead th {\n",
       "        text-align: right;\n",
       "    }\n",
       "</style>\n",
       "<table border=\"1\" class=\"dataframe\">\n",
       "  <thead>\n",
       "    <tr style=\"text-align: right;\">\n",
       "      <th></th>\n",
       "      <th>CTR</th>\n",
       "    </tr>\n",
       "  </thead>\n",
       "  <tbody>\n",
       "    <tr>\n",
       "      <th>count</th>\n",
       "      <td>500.000000</td>\n",
       "    </tr>\n",
       "    <tr>\n",
       "      <th>mean</th>\n",
       "      <td>0.035068</td>\n",
       "    </tr>\n",
       "    <tr>\n",
       "      <th>std</th>\n",
       "      <td>0.011057</td>\n",
       "    </tr>\n",
       "    <tr>\n",
       "      <th>min</th>\n",
       "      <td>0.003803</td>\n",
       "    </tr>\n",
       "    <tr>\n",
       "      <th>25%</th>\n",
       "      <td>0.027603</td>\n",
       "    </tr>\n",
       "    <tr>\n",
       "      <th>50%</th>\n",
       "      <td>0.034431</td>\n",
       "    </tr>\n",
       "    <tr>\n",
       "      <th>75%</th>\n",
       "      <td>0.042002</td>\n",
       "    </tr>\n",
       "    <tr>\n",
       "      <th>max</th>\n",
       "      <td>0.070789</td>\n",
       "    </tr>\n",
       "  </tbody>\n",
       "</table>\n",
       "</div>"
      ],
      "text/plain": [
       "              CTR\n",
       "count  500.000000\n",
       "mean     0.035068\n",
       "std      0.011057\n",
       "min      0.003803\n",
       "25%      0.027603\n",
       "50%      0.034431\n",
       "75%      0.042002\n",
       "max      0.070789"
      ]
     },
     "execution_count": 24,
     "metadata": {},
     "output_type": "execute_result"
    }
   ],
   "source": [
    "# Summary stats\n",
    "df.describe()"
   ]
  },
  {
   "cell_type": "code",
   "execution_count": 25,
   "id": "492a1669-d176-48a2-94bd-7ff2241713ea",
   "metadata": {},
   "outputs": [
    {
     "data": {
      "text/plain": [
       "Campaign\n",
       "A    250\n",
       "B    250\n",
       "Name: count, dtype: int64"
      ]
     },
     "execution_count": 25,
     "metadata": {},
     "output_type": "execute_result"
    }
   ],
   "source": [
    "# Checking how many values in Campaign column\n",
    "df[\"Campaign\"].value_counts()"
   ]
  },
  {
   "cell_type": "markdown",
   "id": "1cf58b8d-af60-43b4-96bb-d552c6d19fb6",
   "metadata": {},
   "source": [
    "### Calculating the mean for both groups, A and B"
   ]
  },
  {
   "cell_type": "code",
   "execution_count": 26,
   "id": "0115f029-d0d8-43e2-a107-f7924d3929dc",
   "metadata": {},
   "outputs": [
    {
     "name": "stdout",
     "output_type": "stream",
     "text": [
      "Group A mean: 0.02998\n"
     ]
    }
   ],
   "source": [
    "# Grouping the values in the Campaign column to calculate the mean - Group A\n",
    "# A = df.groupby(\"Campaign\")[\"CTR\"].sum()\n",
    "# A\n",
    "\n",
    "# Grouping the values in the Campaign column to calculate the mean - Group A\n",
    "A = df.groupby(\"Campaign\")[\"CTR\"].mean().loc[\"A\"]\n",
    "A = round(A, 5)\n",
    "print(F\"Group A mean: {A}\")"
   ]
  },
  {
   "cell_type": "code",
   "execution_count": 27,
   "id": "bc615428-29d0-4f69-b70b-73e167e03262",
   "metadata": {},
   "outputs": [
    {
     "name": "stdout",
     "output_type": "stream",
     "text": [
      "Group B mean: 0.04016\n"
     ]
    }
   ],
   "source": [
    "# Grouping the values in the Campaign column to calculate the mean - Group B\n",
    "# B = df.groupby(\"Campaign\")[\"CTR\"].sum()\n",
    "# B\n",
    "\n",
    "# Grouping the values in the Campaign column to calculate the mean - Group B\n",
    "B = df.groupby(\"Campaign\")[\"CTR\"].mean().loc[\"B\"]\n",
    "B = round(B, 5)\n",
    "print(F\"Group B mean: {B}\")"
   ]
  },
  {
   "cell_type": "markdown",
   "id": "dbf2f658-3b25-4ed5-837d-ca5ef999f5c6",
   "metadata": {},
   "source": [
    "### Calculating the standard deviation for both groups, A and B"
   ]
  },
  {
   "cell_type": "code",
   "execution_count": 28,
   "id": "fb551045-db68-4589-9282-c35a142c3fe5",
   "metadata": {},
   "outputs": [
    {
     "name": "stdout",
     "output_type": "stream",
     "text": [
      "Group A Std: 0.00966\n",
      "Group B Std: 0.00998\n"
     ]
    }
   ],
   "source": [
    "# Calculating the standard deviation for group A and group B\n",
    "std_A = df.groupby(\"Campaign\")[\"CTR\"].std().loc[\"A\"]\n",
    "std_A = round(std_A, 5)\n",
    "print(F\"Group A Std: {std_A}\")\n",
    "\n",
    "std_B = df.groupby(\"Campaign\")[\"CTR\"].std().loc[\"B\"]\n",
    "std_B = round(std_B, 5)\n",
    "print(F\"Group B Std: {std_B}\")"
   ]
  },
  {
   "cell_type": "markdown",
   "id": "06b838f9-6b1b-488d-b284-398885139ed4",
   "metadata": {},
   "source": [
    "### Getting the sample size for both groups, A and B"
   ]
  },
  {
   "cell_type": "code",
   "execution_count": 29,
   "id": "40e29cdb-8375-4f67-a1e3-f27bb95e84b6",
   "metadata": {},
   "outputs": [
    {
     "name": "stdout",
     "output_type": "stream",
     "text": [
      "Sample size for group A: 250\n",
      "Sample size for group A: 250\n"
     ]
    }
   ],
   "source": [
    "# Getting the sample size for group A and group B\n",
    "sample_A = df.groupby(\"Campaign\")[\"CTR\"].count().loc[\"A\"]\n",
    "print(F\"Sample size for group A: {sample_A}\")\n",
    "\n",
    "sample_B = df.groupby(\"Campaign\")[\"CTR\"].count().loc[\"A\"]\n",
    "print(F\"Sample size for group A: {sample_B}\")"
   ]
  },
  {
   "cell_type": "markdown",
   "id": "04aa1666-c38b-4dd1-b907-874544303fda",
   "metadata": {},
   "source": [
    "### Extracting individual CTR values for both groups, A and B"
   ]
  },
  {
   "cell_type": "code",
   "execution_count": 30,
   "id": "ece14bd7-f4a1-4124-b76a-ab756121a4a9",
   "metadata": {},
   "outputs": [
    {
     "name": "stdout",
     "output_type": "stream",
     "text": [
      "Group A CTR Values: 0      0.034967\n",
      "1      0.028617\n",
      "2      0.036477\n",
      "3      0.045230\n",
      "4      0.027658\n",
      "         ...   \n",
      "245    0.026655\n",
      "246    0.025251\n",
      "247    0.023467\n",
      "248    0.047655\n",
      "249    0.034050\n",
      "Name: CTR, Length: 250, dtype: float64\n",
      "Group B CTR Values: 250    0.027391\n",
      "251    0.049179\n",
      "252    0.061222\n",
      "253    0.050325\n",
      "254    0.024806\n",
      "         ...   \n",
      "495    0.045389\n",
      "496    0.029628\n",
      "497    0.038097\n",
      "498    0.031244\n",
      "499    0.026172\n",
      "Name: CTR, Length: 250, dtype: float64\n"
     ]
    }
   ],
   "source": [
    "# Extracting individual CTR values for Campaign A and Campaign B\n",
    "A_CTR = df[df[\"Campaign\"] == \"A\"][\"CTR\"]\n",
    "B_CTR = df[df[\"Campaign\"] == \"B\"][\"CTR\"]\n",
    "print(f\"Group A CTR Values: {A_CTR}\")\n",
    "print(f\"Group B CTR Values: {B_CTR}\")"
   ]
  },
  {
   "cell_type": "markdown",
   "id": "c0d4bbe5-73c6-414b-ae1c-9af1c31f711c",
   "metadata": {},
   "source": [
    "### Performing t-test and p-value for both groups, A and B"
   ]
  },
  {
   "cell_type": "code",
   "execution_count": 31,
   "id": "fad25da3-fc8c-4b34-9568-d2cd878e8a92",
   "metadata": {},
   "outputs": [
    {
     "name": "stdout",
     "output_type": "stream",
     "text": [
      "T-Statistic: -11.59\n",
      "P-Value: 0.0\n"
     ]
    }
   ],
   "source": [
    "from scipy.stats import ttest_ind\n",
    "\n",
    "# Perform t-test using the CTR values for Campaign A and B\n",
    "t_stat, p_value = ttest_ind(A_CTR, B_CTR)\n",
    "\n",
    "print(f\"T-Statistic: {round(t_stat, 2)}\")\n",
    "print(f\"P-Value: {round(p_value, 2)}\")"
   ]
  },
  {
   "cell_type": "markdown",
   "id": "a50a576c-ef8a-44ac-83d6-87692c889de7",
   "metadata": {},
   "source": [
    "### **Testing Interpretation**\n",
    "\n",
    "#### **T-Statistic** = -11.59 indicates a significant difference between the two groups A and B.\n",
    "\n",
    "#### **P-Value** = 0.0, which is far below the threshold of 0.05\n",
    "#### Since the p-value is far below 0.05, we can confidently **reject the null hypothesis**, which states that there is no difference in the mean CTR between Campaign A and Campaign B.\n",
    "\n",
    "\n",
    "#### In summary, this testing shows Campaign B has a significantly higher click-through rate (CTR) than Campaign A."
   ]
  },
  {
   "cell_type": "code",
   "execution_count": null,
   "id": "4fefd622-50e4-447a-9dd4-6124ff7e335a",
   "metadata": {},
   "outputs": [],
   "source": []
  },
  {
   "cell_type": "code",
   "execution_count": null,
   "id": "a5660178-8219-420a-a772-fa1ff30e732e",
   "metadata": {},
   "outputs": [],
   "source": []
  },
  {
   "cell_type": "markdown",
   "id": "5c29f789-de93-422c-a1c2-3c2f5ee7852d",
   "metadata": {},
   "source": [
    "## **Calculating the Effect Size Between Campaign A and B**"
   ]
  },
  {
   "cell_type": "markdown",
   "id": "6a528baf-bf9c-42b7-9103-c854ea36e4c1",
   "metadata": {},
   "source": [
    "### Steps I took:\n",
    "* #### Calculated the mean for each of the two groups\n",
    "* #### Calculated the variance for each of the two groups\n",
    "* #### Calculated the pooled standard deviation based on the variance for both gorups\n",
    "* #### Calculated the Cohen's d effect size using this formula (group a mean - group b mean  divided by the pooled standard deviation)."
   ]
  },
  {
   "cell_type": "code",
   "execution_count": 32,
   "id": "90978a6f-b608-4687-898f-2198987eb943",
   "metadata": {},
   "outputs": [
    {
     "name": "stdout",
     "output_type": "stream",
     "text": [
      "Group A Mean: 0.02998\n"
     ]
    }
   ],
   "source": [
    "# Calculating the mean for group A\n",
    "mean_A = df.groupby(\"Campaign\")[\"CTR\"].mean().loc[\"A\"]\n",
    "mean_A = round(mean_A, 5) # rounded group A mean to 5 dp\n",
    "print(f\"Group A Mean: {mean_A}\")"
   ]
  },
  {
   "cell_type": "code",
   "execution_count": 33,
   "id": "596f2756-c3c5-457a-b71f-2dbe07b61f21",
   "metadata": {},
   "outputs": [
    {
     "name": "stdout",
     "output_type": "stream",
     "text": [
      "Group B Mean: 0.04016\n"
     ]
    }
   ],
   "source": [
    "# Calculating the mean for group B\n",
    "mean_B = df.groupby(\"Campaign\")[\"CTR\"].mean().loc[\"B\"]\n",
    "mean_B = round(mean_B, 5) # rounded group B mean to 5 dp\n",
    "print(f\"Group B Mean: {mean_B}\")"
   ]
  },
  {
   "cell_type": "markdown",
   "id": "5d624f38-6962-4fce-8d19-e1d068c1a4b3",
   "metadata": {},
   "source": [
    "### Plotting the Mean CTR for Each Campaign"
   ]
  },
  {
   "cell_type": "code",
   "execution_count": 43,
   "id": "b2f561eb-86bd-484c-bf2a-ac95f82168ee",
   "metadata": {},
   "outputs": [],
   "source": [
    "# Data for plotting the means\n",
    "campaigns = [\"Campaign A\", \"Campaign B\"]\n",
    "ctr_means = [mean_A, mean_B]"
   ]
  },
  {
   "cell_type": "code",
   "execution_count": 50,
   "id": "196c3502-cf30-472a-b6b5-391f5ef912da",
   "metadata": {},
   "outputs": [
    {
     "data": {
      "image/png": "[encoded data removed]",
      "text/plain": [
       "<Figure size 800x600 with 1 Axes>"
      ]
     },
     "metadata": {},
     "output_type": "display_data"
    }
   ],
   "source": [
    "# Bar Plot\n",
    "plt.figure(figsize=(8, 6))\n",
    "plt.bar(campaigns, ctr_means, color=[\"skyblue\", \"salmon\"], width=0.5)\n",
    "plt.title(\"Mean Click-Through Rate (CTR) by Campaign\")\n",
    "plt.xlabel(\"Campaign\")\n",
    "plt.ylabel(\"Mean CTR\")\n",
    "plt.ylim(0, max(ctr_means) + 0.01)  # Adjust y-axis for better visibility\n",
    "plt.text(0, mean_A + 0.001, f\"{mean_A:.4f}\", ha=\"center\", color=\"black\") # additional text on top of bars\n",
    "plt.text(1, mean_B + 0.001, f\"{mean_B:.4f}\", ha=\"center\", color=\"black\") # additional text on top of bars\n",
    "\n",
    "# Show plot\n",
    "plt.show()"
   ]
  },
  {
   "cell_type": "code",
   "execution_count": null,
   "id": "7ce54e66-f470-4446-825f-409c5af366de",
   "metadata": {},
   "outputs": [],
   "source": []
  },
  {
   "cell_type": "code",
   "execution_count": 34,
   "id": "d983d6ef-a1f4-4aab-aa03-80400566ea72",
   "metadata": {},
   "outputs": [
    {
     "name": "stdout",
     "output_type": "stream",
     "text": [
      "Group A Variance: 9.332597432331495e-05\n"
     ]
    }
   ],
   "source": [
    "# Calculating the variance for group A\n",
    "var_A = df.groupby(\"Campaign\")[\"CTR\"].var().loc[\"A\"]\n",
    "# var_A = round(var_A, 5) # rounded group A variance to 5 dp\n",
    "print(f\"Group A Variance: {var_A}\")"
   ]
  },
  {
   "cell_type": "code",
   "execution_count": 35,
   "id": "5b711152-7b83-43d1-9e40-eb11fe802fde",
   "metadata": {},
   "outputs": [
    {
     "name": "stdout",
     "output_type": "stream",
     "text": [
      "Group B Variance: 9.961508096631272e-05\n"
     ]
    }
   ],
   "source": [
    "# Calculating the variance for group B\n",
    "var_B = df.groupby(\"Campaign\")[\"CTR\"].var().loc[\"B\"]\n",
    "# var_B = round(var_B, 5) # rounded group B variance to 5 dp\n",
    "print(f\"Group B Variance: {var_B}\")"
   ]
  },
  {
   "cell_type": "code",
   "execution_count": 36,
   "id": "bab5a6a6-633d-42ba-9ab7-d3a39689ead1",
   "metadata": {},
   "outputs": [
    {
     "name": "stdout",
     "output_type": "stream",
     "text": [
      "Pooled Standard Deviation for Group A and B: 0.00982\n"
     ]
    }
   ],
   "source": [
    "# Calculating the pooled standard deviation using the variance of group A and B\n",
    "#importing math module - required for this calculation\n",
    "import math\n",
    "std_A_B = math.sqrt((var_A + var_B) / 2)\n",
    "std_A_B = round(std_A_B, 5) # rounded the 2 groups std to 5 dp\n",
    "print(f\"Pooled Standard Deviation for Group A and B: {std_A_B}\")"
   ]
  },
  {
   "cell_type": "code",
   "execution_count": 37,
   "id": "4ba8b65d-f22a-400f-8a1b-b7151f349577",
   "metadata": {},
   "outputs": [
    {
     "name": "stdout",
     "output_type": "stream",
     "text": [
      "The cohen's d for the 2 groups is: -1.0367\n"
     ]
    }
   ],
   "source": [
    "# Calculating the Cohen's d for the effect size of both group A and B campaigns\n",
    "cohen_d = (mean_A - mean_B) / std_A_B\n",
    "print(F\"The cohen's d for the 2 groups is: {round(cohen_d, 4)}\")"
   ]
  },
  {
   "cell_type": "markdown",
   "id": "df507db1-3b4d-4c54-89be-2323c20e844b",
   "metadata": {},
   "source": [
    "## Cohen's d Effect Size Interpretation\n",
    "\n",
    "### Which campaign was more effective?\n",
    "* #### For the marketing campaings groups of A and B, the **effect size of -1.0367** has helped me to conclude that Campaign B was significantly more effective because it has a higher mean CTR than campaign A.\n",
    "\n",
    "* #### My advice to the marketing company would be to consider focusing more resources towards campaign B because it was more effective than campaign A. On the other hand, they can borrow strategies from campaign B and use it towards improving the CTR of campaign A."
   ]
  },
  {
   "cell_type": "code",
   "execution_count": null,
   "id": "a8e88102-447a-4579-8266-9f7aa399dda3",
   "metadata": {},
   "outputs": [],
   "source": []
  }
 ],
 "metadata": {
  "kernelspec": {
   "display_name": "Python 3 (ipykernel)",
   "language": "python",
   "name": "python3"
  },
  "language_info": {
   "codemirror_mode": {
    "name": "ipython",
    "version": 3
   },
   "file_extension": ".py",
   "mimetype": "text/x-python",
   "name": "python",
   "nbconvert_exporter": "python",
   "pygments_lexer": "ipython3",
   "version": "3.11.3"
  }
 },
 "nbformat": 4,
 "nbformat_minor": 5
}
